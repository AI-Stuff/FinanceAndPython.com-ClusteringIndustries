{
 "cells": [
  {
   "cell_type": "code",
   "execution_count": 1,
   "metadata": {
    "collapsed": true
   },
   "outputs": [],
   "source": [
    "from sklearn.cluster import KMeans\n",
    "import pandas as pd\n",
    "def group(n):\n",
    "    df = pd.DataFrame.from_csv(\"RegressionMatrix1.csv\",encoding=\"UTF-8\")\n",
    "    SP500 = pd.DataFrame.from_csv(\"SP500.csv\", encoding=\"UTF-8\")\n",
    "    df = df.fillna(0)\n",
    "    tickers = []\n",
    "    for x in SP500[\"Ticker\"].values:\n",
    "        if x == \"LMT\":\n",
    "            x = \"NYSELMT\"\n",
    "        if x ==\"NWL\":\n",
    "            x = \"NYSENWL\"\n",
    "        if x==\"NBL\":\n",
    "            x = \"NYSENBL\"\n",
    "        if \".\" in x:\n",
    "            x = x.replace(\".\",\"\")\n",
    "        tickers.append(x)\n",
    "    SP500[\"Ticker\"]=tickers\n",
    "    SP500.index = SP500[\"Ticker\"]\n",
    "\n",
    "    SP500.drop([\"FTI\",\"COL\",'DXC',\"BHGE\"],inplace=True)\n",
    "\n",
    "    df = df.transpose()\n",
    "\n",
    "    zScores = pd.DataFrame()\n",
    "    for x in df.columns:\n",
    "        zScores[x] = (df[x] - df[x].mean())/df[x].std(ddof=0)\n",
    "    \n",
    "    SP500 = pd.concat([SP500,df],axis=1)\n",
    "    \n",
    "    \n",
    "    model = KMeans(n_clusters=n)\n",
    "    model = model.fit(zScores)\n",
    "\n",
    "    SP500[\"Group\"] = model.labels_\n",
    "    return SP500"
   ]
  },
  {
   "cell_type": "code",
   "execution_count": 2,
   "metadata": {},
   "outputs": [
    {
     "name": "stdout",
     "output_type": "stream",
     "text": [
      "Group  GICS Sector               \n",
      "0      Health Care                   37\n",
      "       Consumer Discretionary        30\n",
      "       Consumer Staples              30\n",
      "       Information Technology        27\n",
      "       Utilities                     26\n",
      "       Financials                    22\n",
      "       Real Estate                   20\n",
      "       Industrials                   19\n",
      "       Materials                      6\n",
      "       Telecommunication Services     3\n",
      "       Energy                         1\n",
      "1      Consumer Discretionary        38\n",
      "       Information Technology        32\n",
      "       Industrials                   30\n",
      "       Financials                    21\n",
      "       Health Care                   19\n",
      "       Materials                     14\n",
      "       Real Estate                    9\n",
      "       Energy                         3\n",
      "       Telecommunication Services     1\n",
      "       Utilities                      1\n",
      "2      Energy                        23\n",
      "       Materials                      1\n",
      "3      Consumer Discretionary         8\n",
      "       Consumer Staples               5\n",
      "       Industrials                    4\n",
      "       Health Care                    3\n",
      "       Information Technology         3\n",
      "       Materials                      1\n",
      "       Real Estate                    1\n",
      "4      Energy                         4\n",
      "       Information Technology         1\n",
      "       Utilities                      1\n",
      "5      Consumer Discretionary         2\n",
      "       Consumer Staples               1\n",
      "       Industrials                    1\n",
      "       Materials                      1\n",
      "       Real Estate                    1\n",
      "6      Industrials                   10\n",
      "       Consumer Discretionary         7\n",
      "       Information Technology         3\n",
      "       Materials                      2\n",
      "       Energy                         1\n",
      "       Health Care                    1\n",
      "7      Financials                    24\n",
      "       Information Technology         2\n",
      "       Health Care                    1\n",
      "Name: GICS Sector, dtype: int64\n"
     ]
    }
   ],
   "source": [
    "SP500 = group(8)\n",
    "print(SP500.groupby(\"Group\")[\"GICS Sector\"].value_counts())"
   ]
  }
 ],
 "metadata": {
  "kernelspec": {
   "display_name": "Python 3",
   "language": "python",
   "name": "python3"
  },
  "language_info": {
   "codemirror_mode": {
    "name": "ipython",
    "version": 3
   },
   "file_extension": ".py",
   "mimetype": "text/x-python",
   "name": "python",
   "nbconvert_exporter": "python",
   "pygments_lexer": "ipython3",
   "version": "3.6.1"
  }
 },
 "nbformat": 4,
 "nbformat_minor": 2
}
